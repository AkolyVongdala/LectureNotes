{
 "cells": [
  {
   "cell_type": "markdown",
   "metadata": {},
   "source": [
    "# Visualization in Python"
   ]
  },
  {
   "cell_type": "markdown",
   "metadata": {},
   "source": [
    "## Background"
   ]
  },
  {
   "cell_type": "markdown",
   "metadata": {},
   "source": [
    "Why visualize?\n",
    "- Discovery\n",
    "- Inference\n",
    "- Communication\n"
   ]
  },
  {
   "cell_type": "markdown",
   "metadata": {},
   "source": [
    "Terminology\n",
    "- Representation\n",
    " - Environment for visualization (e.g., 2d, 3d, sound)\n",
    "- Idiom\n",
    " - Constructs used (e.g., bar plot, area plot)\n",
    "- Task\n",
    " - What the user is trying to do (e.g., compare, predict, find relationships)\n",
    "- Design\n",
    " - Choice of the representation(s) and idiom(s) to perform the task\n"
   ]
  },
  {
   "cell_type": "markdown",
   "metadata": {},
   "source": [
    "## Software Engineering & Visualization"
   ]
  },
  {
   "cell_type": "markdown",
   "metadata": {},
   "source": [
    "There are many python packages for visualization.\n",
    "- pandas – Visualization of pandas objects\n",
    "- matplotlib – MATLAB plotting in python\n",
    "- seaborn – Statistical visualizations\n",
    "- bokeh – Interactive visualization using the browser\n",
    "- HoloViews – Simplified visualization of engineering/scientific data\n",
    "- VisPy – fast, scalable, simple interactive scientific visualization\n",
    "- Altair – declarative statistical visualization\n",
    "\n",
    "\n",
    "We'll begin with visualization in pandas and focus on matplotlib. There is great documentation on all of this.\n",
    "The case study is to analyze the flow of bicycles out of stations in the Pronto trip data.\n",
    "In this section, we'll discuss:\n",
    "- the structure of a matplotlib plot\n",
    "- different plot idioms\n",
    "- doing multiple plots"
   ]
  },
  {
   "cell_type": "code",
   "execution_count": null,
   "metadata": {
    "collapsed": true
   },
   "outputs": [],
   "source": [
    "import pandas as pd\n",
    "import matplotlib.pyplot as plt\n",
    "# The following ensures that the plots are in the notebook\n",
    "%matplotlib inline\n",
    "# We'll also use capabilities in numpy\n",
    "import numpy as np"
   ]
  },
  {
   "cell_type": "markdown",
   "metadata": {},
   "source": [
    "Analysis questions\n",
    "- Which stations have the biggest difference between in-flow and out-flow of bikes?\n",
    "- Where can we localize the movement of bicycles between stations that are in close proximity?"
   ]
  },
  {
   "cell_type": "markdown",
   "metadata": {},
   "source": [
    "## Preparing Data For Plotting"
   ]
  },
  {
   "cell_type": "code",
   "execution_count": null,
   "metadata": {
    "collapsed": false
   },
   "outputs": [],
   "source": [
    "df = pd.read_csv(\"2015_trip_data.csv\")\n",
    "df.head()"
   ]
  },
  {
   "cell_type": "markdown",
   "metadata": {},
   "source": [
    "Now let's consider the flow of bicycles from and to stations."
   ]
  },
  {
   "cell_type": "code",
   "execution_count": null,
   "metadata": {
    "collapsed": false
   },
   "outputs": [],
   "source": [
    "from_counts = pd.value_counts(df.from_station_id)\n",
    "to_counts = pd.value_counts(df.to_station_id)"
   ]
  },
  {
   "cell_type": "markdown",
   "metadata": {},
   "source": [
    "## Simple Plots for Series"
   ]
  },
  {
   "cell_type": "markdown",
   "metadata": {},
   "source": [
    "Let's address the question \"Which stations have the biggest difference between the in-flow and out-flow of bicycles?\""
   ]
  },
  {
   "cell_type": "markdown",
   "metadata": {},
   "source": [
    "What kind of objects are returned from pd.value_counts? Are these plottable? How do we figure this out?"
   ]
  },
  {
   "cell_type": "code",
   "execution_count": null,
   "metadata": {
    "collapsed": false
   },
   "outputs": [],
   "source": [
    "from_counts.plot.bar()"
   ]
  },
  {
   "cell_type": "markdown",
   "metadata": {},
   "source": [
    "But this plot doesn't tell us about the *difference* between \"from\" and \"to\" counts. We want to subtract to_counts from from_counts. Will this difference be plottable?"
   ]
  },
  {
   "cell_type": "code",
   "execution_count": null,
   "metadata": {
    "collapsed": false
   },
   "outputs": [],
   "source": [
    "(from_counts-to_counts).plot.bar()"
   ]
  },
  {
   "cell_type": "markdown",
   "metadata": {},
   "source": [
    "Some issues:\n",
    "- Bogus value 'Pronto shop'\n",
    "- Difficult to read the labels on the x-axis\n",
    "- The x and y axis aren't labelled\n",
    "- Lost information about \"from\" and \"to\""
   ]
  },
  {
   "cell_type": "markdown",
   "metadata": {},
   "source": [
    "## Writing a Data Cleansing Function"
   ]
  },
  {
   "cell_type": "markdown",
   "metadata": {},
   "source": [
    "We want to get rid of the row 'Pronto shop' in both from_counts and to_counts."
   ]
  },
  {
   "cell_type": "code",
   "execution_count": null,
   "metadata": {
    "collapsed": false
   },
   "outputs": [],
   "source": [
    "# Selecting a row\n",
    "from_counts[from_counts.index == 'Pronto shop']"
   ]
  },
  {
   "cell_type": "code",
   "execution_count": null,
   "metadata": {
    "collapsed": false
   },
   "outputs": [],
   "source": [
    "# Deleting a row\n",
    "new_from_counts = from_counts[from_counts.index != 'Pronto shop']\n",
    "new_from_counts.plot.bar()"
   ]
  },
  {
   "cell_type": "code",
   "execution_count": null,
   "metadata": {
    "collapsed": true
   },
   "outputs": [],
   "source": [
    "def clean_rows(df, indexes):\n",
    "    \"\"\"\n",
    "    Removes from df all rows with the specified indexes\n",
    "    :param pd.DataFrame or pd.Series df:\n",
    "    :param list-of-str indexes\n",
    "    :return pd.DataFrame or pd.Series:\n",
    "    \"\"\"\n",
    "    for idx in indexes:\n",
    "        df = df[df.index != idx]\n",
    "    return df"
   ]
  },
  {
   "cell_type": "markdown",
   "metadata": {},
   "source": [
    "Does clean_rows need to return df to effect the change in df?"
   ]
  },
  {
   "cell_type": "code",
   "execution_count": null,
   "metadata": {
    "collapsed": false
   },
   "outputs": [],
   "source": [
    "to_counts = clean_rows(to_counts, ['Pronto shop'])\n",
    "to_counts.plot.bar()"
   ]
  },
  {
   "cell_type": "code",
   "execution_count": null,
   "metadata": {
    "collapsed": false
   },
   "outputs": [],
   "source": [
    "from_counts = clean_rows(from_counts, ['Pronto shop'])\n",
    "from_counts.plot.bar()"
   ]
  },
  {
   "cell_type": "markdown",
   "metadata": {},
   "source": [
    "## Getting More Control Over Plots"
   ]
  },
  {
   "cell_type": "markdown",
   "metadata": {},
   "source": [
    "*Let's take a more detailed approach to plotting so we can better control what gets rendered.*"
   ]
  },
  {
   "cell_type": "markdown",
   "metadata": {},
   "source": [
    "In this section, we show how to control various elements of plots to produce a desired visualization. We'll use the package matplotlib, a python package that is modelled after MATLAB style plotting."
   ]
  },
  {
   "cell_type": "markdown",
   "metadata": {},
   "source": [
    "Make a dataframe out of the count data."
   ]
  },
  {
   "cell_type": "code",
   "execution_count": null,
   "metadata": {
    "collapsed": false
   },
   "outputs": [],
   "source": [
    "df_counts = pd.DataFrame({'From': from_counts.sort_index(), 'To': to_counts.sort_index()})"
   ]
  },
  {
   "cell_type": "markdown",
   "metadata": {},
   "source": [
    "Need to align the counts by the station. Do we do this?"
   ]
  },
  {
   "cell_type": "code",
   "execution_count": null,
   "metadata": {
    "collapsed": false,
    "scrolled": true
   },
   "outputs": [],
   "source": [
    "df_counts.head()"
   ]
  },
  {
   "cell_type": "code",
   "execution_count": null,
   "metadata": {
    "collapsed": false
   },
   "outputs": [],
   "source": [
    "\"\"\"\n",
    "Basic bar chart using matplotlib\n",
    "\"\"\"\n",
    "n_groups = len(df_counts.index)\n",
    "index = np.arange(n_groups)  # The \"raw\" x-axis of the bar plot\n",
    "\n",
    "fig = plt.figure(figsize=(12, 8))  # Controls global properties of the bar plot\n",
    "rects1 = plt.bar(index, df_counts.From)\n",
    "plt.xlabel('Station')\n",
    "plt.ylabel('Counts')\n",
    "plt.xticks(index, df_counts.index)  # Convert \"raw\" x-axis into labels\n",
    "_, labels = plt.xticks()  # Get the new labels of the plot\n",
    "plt.setp(labels, rotation=90)  # Rotate labels to make them readable\n",
    "plt.title('Station Counts')\n",
    "plt.show()"
   ]
  },
  {
   "cell_type": "markdown",
   "metadata": {},
   "source": [
    "Issue - much more code, which will tend to be copied and pasted. \n",
    "\n",
    "Solution - **MAKE A FUNCTION NOW!!!**"
   ]
  },
  {
   "cell_type": "code",
   "execution_count": null,
   "metadata": {
    "collapsed": true
   },
   "outputs": [],
   "source": [
    "def plot_bar1(df, column, opts):\n",
    "    \"\"\"\n",
    "    Does a bar plot for a single column.\n",
    "    :param pd.DataFrame df:\n",
    "    :param str column: name of the column to plot\n",
    "    :param dict opts: key is plot attribute\n",
    "    \"\"\"\n",
    "    n_groups = len(df.index)\n",
    "    index = np.arange(n_groups)  # The \"raw\" x-axis of the bar plot\n",
    "    rects1 = plt.bar(index, df[column])\n",
    "    if opts.has_key('xlabel'):\n",
    "      plt.xlabel(opts['xlabel'])\n",
    "    if opts.has_key('ylabel'):\n",
    "      plt.ylabel(opts['ylabel'])\n",
    "    if opts.has_key('xticks') and opts['xticks']:\n",
    "      plt.xticks(index, df.index)  # Convert \"raw\" x-axis into labels\n",
    "      _, labels = plt.xticks()  # Get the new labels of the plot\n",
    "      plt.setp(labels, rotation=90)  # Rotate labels to make them readable\n",
    "    else:\n",
    "      labels = ['' for x in df.index]\n",
    "      plt.xticks(index, labels)   \n",
    "    if opts.has_key('ylim'):\n",
    "      plt.ylim(opts['ylim'])\n",
    "    if opts.has_key('title'):\n",
    "      plt.title(opts['title'])"
   ]
  },
  {
   "cell_type": "code",
   "execution_count": null,
   "metadata": {
    "collapsed": false,
    "scrolled": true
   },
   "outputs": [],
   "source": [
    "fig = plt.figure(figsize=(12, 8))  # Controls global properties of the bar plot\n",
    "opts = {'xlabel': 'Stations', 'ylabel': 'Counts', 'xticks': True}\n",
    "plot_bar1(df_counts, 'To', opts)"
   ]
  },
  {
   "cell_type": "markdown",
   "metadata": {},
   "source": [
    "**QUESTIONS** \n",
    "- Why is there no title for this plot? \n",
    "- How should we call plot_bar1 to get a title?"
   ]
  },
  {
   "cell_type": "markdown",
   "metadata": {},
   "source": [
    "### Comparisons Using Subplots"
   ]
  },
  {
   "cell_type": "markdown",
   "metadata": {},
   "source": [
    "We want to encapsulate the plotting of N variables into a function. We could re-write plot_bar1. But other plots use this. Besides plot_bar1 is pretty good at handling a single plot. So, instead we use plot_bar1 in a new function."
   ]
  },
  {
   "cell_type": "code",
   "execution_count": null,
   "metadata": {
    "collapsed": true
   },
   "outputs": [],
   "source": [
    "def plot_barN(df, columns, opts):\n",
    "    \"\"\"\n",
    "    Does a bar plot for a single column.\n",
    "    :param pd.DataFrame df:\n",
    "    :param list-of-str columns: names of the column to plot\n",
    "    :param dict opts: key is plot attribute\n",
    "    \"\"\"\n",
    "    num_columns = len(columns)\n",
    "    local_opts = dict(opts)  # Make a deep copy of the object\n",
    "    idx = 0\n",
    "    for column in columns:\n",
    "        idx += 1\n",
    "        local_opts['xticks'] = False\n",
    "        local_opts['xlabel'] = ''\n",
    "        if idx == num_columns:\n",
    "          local_opts['xticks'] = True\n",
    "          local_opts['xlabel'] = opts['xlabel']\n",
    "        plt.subplot(num_columns, 1, idx)\n",
    "        plot_bar1(df, column, local_opts)\n",
    "    "
   ]
  },
  {
   "cell_type": "markdown",
   "metadata": {},
   "source": [
    "**QUESTIONS**:\n",
    "- Why is a new variable local_opts used in plot_barN instead of just changing opts?\n",
    "- Why does the loop manipulate local_opts['xticks']? local_opts['xlabel']?"
   ]
  },
  {
   "cell_type": "code",
   "execution_count": null,
   "metadata": {
    "collapsed": false
   },
   "outputs": [],
   "source": [
    "fig = plt.figure(figsize=(12, 8))  # Controls global properties of the bar plot\n",
    "opts = {'xlabel': 'Stations', 'ylabel': 'Counts', 'ylim': [0, 8000]}\n",
    "plot_barN(df_counts, ['To', 'From'], opts)"
   ]
  },
  {
   "cell_type": "markdown",
   "metadata": {},
   "source": [
    "Issue - x-axis label overlaps second title.\n",
    "Solution - eliminate the x-axis on the top plot"
   ]
  },
  {
   "cell_type": "markdown",
   "metadata": {},
   "source": [
    "### Comparisons Using Multiple Bars In a Single Plot"
   ]
  },
  {
   "cell_type": "markdown",
   "metadata": {},
   "source": [
    "To compare 'from' and 'to', we want:\n",
    "- bars of different colors\n",
    "- a legend"
   ]
  },
  {
   "cell_type": "markdown",
   "metadata": {},
   "source": [
    "Unfortunately, we can't use plot_bar1 because it only accepts a single column as input."
   ]
  },
  {
   "cell_type": "code",
   "execution_count": null,
   "metadata": {
    "collapsed": false
   },
   "outputs": [],
   "source": [
    "\"\"\"\n",
    "Plotting two variables as a bar chart\n",
    "\"\"\"\n",
    "n_groups = len(df_counts.index)\n",
    "index = np.arange(n_groups)  # The \"raw\" x-axis of the bar plot\n",
    "fig = plt.figure(figsize=(12, 8))  # Controls global properties of the bar plot\n",
    "\n",
    "#VVVV Changed to do two plots\n",
    "bar_width = 0.35  # Width of the bars\n",
    "opacity = 0.6  # How transparent the bars are\n",
    "rects1 = plt.bar(index, df_counts.From, bar_width,\n",
    "                 alpha=opacity,\n",
    "                 color='b',\n",
    "                 label='From')\n",
    "rects2 = plt.bar(index + bar_width, df_counts.To, bar_width,\n",
    "                 alpha=opacity,\n",
    "                 color='r',\n",
    "                 label='to')\n",
    "plt.xticks(index + bar_width / 2, df_counts.index)\n",
    "_, labels = plt.xticks()  # Get the new labels of the plot\n",
    "plt.setp(labels, rotation=90)  # Rotate labels to make them readable\n",
    "plt.legend()\n",
    "#^^^^ Changed to do two plots\n",
    "\n",
    "plt.xlabel('Station')\n",
    "plt.ylabel('Counts')\n",
    "plt.title('Station Counts')\n",
    "plt.show()"
   ]
  },
  {
   "cell_type": "markdown",
   "metadata": {},
   "source": [
    "## Including Error Bars in a Bar Chart"
   ]
  },
  {
   "cell_type": "markdown",
   "metadata": {},
   "source": [
    "To make decisions about the truck trips required to adjust bikes at stations, we need to know the variations by day.\n",
    "\n",
    "Want a bar plot with average daily \"to\" and \"from\" with their standard deviations."
   ]
  },
  {
   "cell_type": "markdown",
   "metadata": {},
   "source": [
    "### Data Preparation"
   ]
  },
  {
   "cell_type": "markdown",
   "metadata": {},
   "source": [
    "Need to:\n",
    "- Create a date column for 'from' and 'to'\n",
    "- Compute counts by date\n",
    "- Compute the mean and standard deviation of the counts by date\n",
    "\n",
    "(Assumes that a station has at least one rental every day.)"
   ]
  },
  {
   "cell_type": "markdown",
   "metadata": {},
   "source": [
    "Let's start with the values for starttime. What type are these?"
   ]
  },
  {
   "cell_type": "code",
   "execution_count": null,
   "metadata": {
    "collapsed": false
   },
   "outputs": [],
   "source": [
    "print (df.starttime[0])\n",
    "print (type(df.starttime[0]))"
   ]
  },
  {
   "cell_type": "markdown",
   "metadata": {},
   "source": [
    "Question: How do we extract the day from a string?\n",
    "\n",
    "YOU DON'T!!! You convert it to a datetime object."
   ]
  },
  {
   "cell_type": "code",
   "execution_count": null,
   "metadata": {
    "collapsed": false
   },
   "outputs": [],
   "source": [
    "this_datetime = pd.to_datetime(df.starttime[0])\n",
    "print this_datetime"
   ]
  },
  {
   "cell_type": "code",
   "execution_count": null,
   "metadata": {
    "collapsed": false
   },
   "outputs": [],
   "source": [
    "start_day = [pd.to_datetime(x).dayofyear for x in df.starttime]\n",
    "stop_day = [pd.to_datetime(x).dayofyear for x in df.stoptime]"
   ]
  },
  {
   "cell_type": "code",
   "execution_count": null,
   "metadata": {
    "collapsed": true
   },
   "outputs": [],
   "source": [
    "df['startday'] = start_day  # Creates a new column named 'startday'\n",
    "df['stopday'] = stop_day"
   ]
  },
  {
   "cell_type": "code",
   "execution_count": null,
   "metadata": {
    "collapsed": false
   },
   "outputs": [],
   "source": [
    "df.head()"
   ]
  },
  {
   "cell_type": "code",
   "execution_count": null,
   "metadata": {
    "collapsed": false
   },
   "outputs": [],
   "source": [
    "groupby_day_from = df.groupby(['from_station_id', 'startday']).size()\n",
    "groupby_day_from.head()"
   ]
  },
  {
   "cell_type": "markdown",
   "metadata": {},
   "source": [
    "Now we need to compute the average value and its standard deviation across the days for each station.\n",
    "The groupby produced a MultiIndex. So, further operations on the result must take this into account."
   ]
  },
  {
   "cell_type": "code",
   "execution_count": null,
   "metadata": {
    "collapsed": false
   },
   "outputs": [],
   "source": [
    "h_index = groupby_day_from.index\n",
    "h_index.levshape  # Size of the components of the MultiIndex"
   ]
  },
  {
   "cell_type": "code",
   "execution_count": null,
   "metadata": {
    "collapsed": false
   },
   "outputs": [],
   "source": [
    "from_means = groupby_day_from.groupby(level=[0]).mean()  # Computes the mean of counts by day\n",
    "from_stds = groupby_day_from.groupby(level=[0]).std()   # Computes the standard deviation\n"
   ]
  },
  {
   "cell_type": "code",
   "execution_count": null,
   "metadata": {
    "collapsed": true
   },
   "outputs": [],
   "source": [
    "groupby_day_to = df.groupby(['to_station_id', 'startday']).size()\n",
    "to_means = groupby_day_to.groupby(level=[0]).mean()  # Computes the mean of counts by day\n",
    "to_stds = groupby_day_to.groupby(level=[0]).std()   # Computes the standard deviation"
   ]
  },
  {
   "cell_type": "code",
   "execution_count": null,
   "metadata": {
    "collapsed": false,
    "scrolled": true
   },
   "outputs": [],
   "source": [
    "df_day_counts = pd.DataFrame({'from_mean': from_means, 'from_std': from_stds, 'to_mean': to_means, 'to_std': to_stds})\n",
    "df_day_counts.head()"
   ]
  },
  {
   "cell_type": "markdown",
   "metadata": {},
   "source": [
    "### Plotting with Error Bars"
   ]
  },
  {
   "cell_type": "code",
   "execution_count": null,
   "metadata": {
    "collapsed": false,
    "scrolled": true
   },
   "outputs": [],
   "source": [
    "\"\"\"\n",
    "Plotting two variables as a bar chart with error bars\n",
    "\"\"\"\n",
    "n_groups = len(df_day_counts.index)\n",
    "index = np.arange(n_groups)  # The \"raw\" x-axis of the bar plot\n",
    "fig = plt.figure(figsize=(12, 8))  # Controls global properties of the bar plot\n",
    "bar_width = 0.35  # Width of the bars\n",
    "opacity = 0.6  # How transparent the bars are\n",
    "\n",
    "#VVVV Changed to do two plots with error bars\n",
    "error_config = {'ecolor': '0.3'}\n",
    "rects1 = plt.bar(index, df_day_counts.from_mean, bar_width,\n",
    "                 alpha=opacity,\n",
    "                 color='b',\n",
    "                 yerr=df_day_counts.from_std,\n",
    "                 error_kw=error_config,\n",
    "                 label='From')\n",
    "rects2 = plt.bar(index + bar_width, df_day_counts.to_mean, bar_width,\n",
    "                 alpha=opacity,\n",
    "                 color='r',\n",
    "                 yerr=df_day_counts.to_std,\n",
    "                 error_kw=error_config,\n",
    "                 label='to')\n",
    "#^^^^ Changed to do two plots with error bars\n",
    "\n",
    "plt.xticks(index + bar_width / 2, df_counts.index)\n",
    "_, labels = plt.xticks()  # Get the new labels of the plot\n",
    "plt.setp(labels, rotation=90)  # Rotate labels to make them readable\n",
    "plt.legend()\n",
    "\n",
    "plt.xlabel('Station')\n",
    "plt.ylabel('Counts')\n",
    "plt.title('Station Counts')\n",
    "plt.show()"
   ]
  },
  {
   "cell_type": "markdown",
   "metadata": {},
   "source": [
    "## In-class exercise\n",
    "Change the above script for plotting with error bars into a function and verify that you can call this function and get the same plot as the one above.\n",
    "* What are the inputs to your function and why?\n",
    "* How would you change plot_barN to use this function?"
   ]
  }
 ],
 "metadata": {
  "anaconda-cloud": {},
  "kernelspec": {
   "display_name": "Python 2",
   "language": "python",
   "name": "python2"
  },
  "language_info": {
   "codemirror_mode": {
    "name": "ipython",
    "version": 2
   },
   "file_extension": ".py",
   "mimetype": "text/x-python",
   "name": "python",
   "nbconvert_exporter": "python",
   "pygments_lexer": "ipython2",
   "version": "2.7.12"
  }
 },
 "nbformat": 4,
 "nbformat_minor": 0
}
