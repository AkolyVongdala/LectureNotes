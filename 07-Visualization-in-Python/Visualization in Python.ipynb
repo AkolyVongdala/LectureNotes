{
 "cells": [
  {
   "cell_type": "markdown",
   "metadata": {},
   "source": [
    "# Visualization in Python - Case Study"
   ]
  },
  {
   "cell_type": "markdown",
   "metadata": {},
   "source": [
    "There are many python packages for visualization. We'll focus on capabilities available through pandas, and to a lesser extent, matplotlib. There is great documentation on all of this.\n",
    "The case study is to analyze the flow of bicycles out of stations in the Pronto trip data."
   ]
  },
  {
   "cell_type": "code",
   "execution_count": null,
   "metadata": {
    "collapsed": true
   },
   "outputs": [],
   "source": [
    "import pandas as pd\n",
    "import matplotlib.pyplot as plt\n",
    "# The following ensures that the plots are in the notebook\n",
    "%matplotlib inline\n",
    "# We'll also use capabilities in numpy\n",
    "import numpy as np"
   ]
  },
  {
   "cell_type": "code",
   "execution_count": null,
   "metadata": {
    "collapsed": false
   },
   "outputs": [],
   "source": [
    "df = pd.read_csv(\"2015_trip_data.csv\")\n",
    "df.head()"
   ]
  },
  {
   "cell_type": "markdown",
   "metadata": {},
   "source": [
    "Now let's consider the popularity of the stations."
   ]
  },
  {
   "cell_type": "code",
   "execution_count": null,
   "metadata": {
    "collapsed": false
   },
   "outputs": [],
   "source": [
    "from_counts = pd.value_counts(df.from_station_id)\n",
    "to_counts = pd.value_counts(df.to_station_id)"
   ]
  },
  {
   "cell_type": "markdown",
   "metadata": {},
   "source": [
    "What kind of objects are returned from pd.value_counts? Are these plottable?"
   ]
  },
  {
   "cell_type": "code",
   "execution_count": null,
   "metadata": {
    "collapsed": true
   },
   "outputs": [],
   "source": [
    "from_counts?"
   ]
  },
  {
   "cell_type": "markdown",
   "metadata": {},
   "source": [
    "Our initial task is comparison - which stations are most popular. A bar plot seems appropriate. We can plot this using pandas."
   ]
  },
  {
   "cell_type": "code",
   "execution_count": null,
   "metadata": {
    "collapsed": false
   },
   "outputs": [],
   "source": [
    "from_counts.plot.bar()"
   ]
  },
  {
   "cell_type": "code",
   "execution_count": null,
   "metadata": {
    "collapsed": false
   },
   "outputs": [],
   "source": [
    "to_counts.plot.bar()"
   ]
  },
  {
   "cell_type": "markdown",
   "metadata": {},
   "source": [
    "We want if there is a general movement of bikes from one station to another. That is, are from and to counts out of balance. This is a comparison task. One approach is to combine the two bar plots in the same figure."
   ]
  },
  {
   "cell_type": "code",
   "execution_count": null,
   "metadata": {
    "collapsed": false
   },
   "outputs": [],
   "source": [
    "plt.subplot(3,1,1)\n",
    "from_counts.plot.bar()\n",
    "plt.subplot(3,1,3)\n",
    "to_counts.plot.bar()\n",
    "# Note the use of an empty second plot to provide space between the plots"
   ]
  },
  {
   "cell_type": "markdown",
   "metadata": {},
   "source": [
    "But this is deceptive since the two plots have different x-axis. So, first we'll make sure that the counts are ordered consistently.\n",
    "from_counts and to_counts are indexed by the station name. That is, to_counts['WF-01'] should have the value 7212."
   ]
  },
  {
   "cell_type": "code",
   "execution_count": null,
   "metadata": {
    "collapsed": false
   },
   "outputs": [],
   "source": [
    "# Script to put to_counts in the same order as from_counts\n",
    "to_counts_list = []\n",
    "for station in from_counts.index:\n",
    "    to_counts_list.append(to_counts[station])"
   ]
  },
  {
   "cell_type": "markdown",
   "metadata": {},
   "source": [
    "An even better way to do this is to use a python \"comprehension\". This is a way to simplify short scripts into a single statement. A comprehension can be a list or a dict."
   ]
  },
  {
   "cell_type": "code",
   "execution_count": null,
   "metadata": {
    "collapsed": false
   },
   "outputs": [],
   "source": [
    "to_counts_list = [to_counts[station] for station in from_counts.index]\n",
    "#ordered_to_counts = pd.Series(count_list, index=from_counts.index)"
   ]
  },
  {
   "cell_type": "markdown",
   "metadata": {},
   "source": [
    "Now that we have from_counts and to_counts_list ordered with the same index, let's bundle this into a new dataframe."
   ]
  },
  {
   "cell_type": "code",
   "execution_count": null,
   "metadata": {
    "collapsed": false
   },
   "outputs": [],
   "source": [
    "df_counts = pd.DataFrame({'from': from_counts.values, 'to': to_counts_list}, index=from_counts.index)\n",
    "df_counts.head()"
   ]
  },
  {
   "cell_type": "markdown",
   "metadata": {},
   "source": [
    "Let's do the plots for df_counts dataframe and compare where there are differences."
   ]
  },
  {
   "cell_type": "code",
   "execution_count": null,
   "metadata": {
    "collapsed": false
   },
   "outputs": [],
   "source": [
    "plt.subplot(3,1,1)\n",
    "df_counts['from'].plot.bar()\n",
    "plt.subplot(3,1,3)\n",
    "df_counts['to'].plot.bar()"
   ]
  },
  {
   "cell_type": "markdown",
   "metadata": {},
   "source": [
    "This is really awkward to find the differences since we must move our eyes between the two plots. A better approach is to look at a single variable - outflow. This is the \"from\" counts minus the \"to\" counts. We'll define a new dataframe."
   ]
  },
  {
   "cell_type": "code",
   "execution_count": null,
   "metadata": {
    "collapsed": false
   },
   "outputs": [],
   "source": [
    "df_outflow = pd.DataFrame({'outflow':df_counts['to'] - df_counts['from']}, index=df_counts.index)\n",
    "df_outflow.plot.bar(legend=False)"
   ]
  },
  {
   "cell_type": "markdown",
   "metadata": {},
   "source": [
    "We can make this readable by only looking at stations with large outflows, either positive or negative."
   ]
  },
  {
   "cell_type": "code",
   "execution_count": null,
   "metadata": {
    "collapsed": false
   },
   "outputs": [],
   "source": [
    "min_outflow = 500\n",
    "sel = abs(df_outflow.outflow) > min_outflow\n",
    "df_outflow_small = df_outflow[sel]\n",
    "df_outflow_small.plot.bar(legend=False)"
   ]
  },
  {
   "cell_type": "markdown",
   "metadata": {},
   "source": [
    "## In-class exercise\n",
    "- Using the pronto data, explore comparisons & trends in # rides by time of day, day of week, station, month, membership, gender\n",
    "- What idioms work best for the different kinds of trends\n",
    "\n",
    "Work in teams of three\n",
    "- One person in the team will give a 2 minute summary at end of class"
   ]
  }
 ],
 "metadata": {
  "anaconda-cloud": {},
  "kernelspec": {
   "display_name": "Python [conda env:python3]",
   "language": "python",
   "name": "conda-env-python3-py"
  },
  "language_info": {
   "codemirror_mode": {
    "name": "ipython",
    "version": 2
   },
   "file_extension": ".py",
   "mimetype": "text/x-python",
   "name": "python",
   "nbconvert_exporter": "python",
   "pygments_lexer": "ipython2",
   "version": "2.7.12"
  }
 },
 "nbformat": 4,
 "nbformat_minor": 0
}
