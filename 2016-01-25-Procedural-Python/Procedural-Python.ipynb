{
 "cells": [
  {
   "cell_type": "markdown",
   "metadata": {},
   "source": [
    "# Procedural Python for Reproducibility\n",
    "\n",
    "The goal today is to take some of the ideas we've developed in the past few weeks, and do a couple things to make our lives easier:\n",
    "\n",
    "- Define standalone functions which accomplish tasks that we would like to do repeatedly\n",
    "- Put these functions in a place where we can easily use them without copy-pasting repeatedly\n",
    "- Think about how to make our analysis reproducible – both for the sake of our future selves, and for the sake of anyone who wants to replicate and/or build on our work.\n",
    "\n",
    "To that end, we are going to work together to do the following tasks:"
   ]
  },
  {
   "cell_type": "markdown",
   "metadata": {},
   "source": [
    "1. Write a function which will download the zipped Pronto data.\n",
    "\n",
    "   - This function should **only** download the data if it hasn't already been downloaded\n",
    "   \n",
    "2. Write functions which, given the zip file, will access the particular data that we would like to look at and return a pandas array.\n",
    "\n",
    "   - These functions should **not** extract the data to disk if possible (because some files are very big when uncompressed)\n",
    "   - These functions should take care of things like parsing dates, etc.\n",
    "   \n",
    "3. Write a function which will group and join the trip and weather data into a single DataFrame, making use of the above functions.\n",
    "   \n",
    "4. Develop some plots showing relationships in the data, and write a function which will create and save plots related to your analysis.\n",
    "\n",
    "   - Number of rides per day over the course of the year (short-term vs annual members)\n",
    "   - Number of rides per hour over the course of the day (short-term vs annual members)\n",
    "   - Number of rides per day as a function of temperature (short-term vs annual members)\n",
    "   \n",
    "5. Write a master script that you – or anyone – can run, which will produce your analysis from scratch."
   ]
  },
  {
   "cell_type": "markdown",
   "metadata": {},
   "source": [
    "Today during the class time we will walk through accomplishing these tasks together."
   ]
  }
 ],
 "metadata": {
  "kernelspec": {
   "display_name": "Python 3.5",
   "language": "",
   "name": "python3.5"
  },
  "language_info": {
   "codemirror_mode": {
    "name": "ipython",
    "version": 3
   },
   "file_extension": ".py",
   "mimetype": "text/x-python",
   "name": "python",
   "nbconvert_exporter": "python",
   "pygments_lexer": "ipython3",
   "version": "3.5.1"
  }
 },
 "nbformat": 4,
 "nbformat_minor": 0
}
