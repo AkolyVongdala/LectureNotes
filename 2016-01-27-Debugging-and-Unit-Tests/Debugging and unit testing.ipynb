{
 "cells": [
  {
   "cell_type": "markdown",
   "metadata": {},
   "source": [
    "# What is a bug?"
   ]
  },
  {
   "cell_type": "code",
   "execution_count": 1,
   "metadata": {
    "collapsed": false
   },
   "outputs": [
    {
     "data": {
      "text/html": [
       "<style type=\"text/css\">\n",
       ".output_area, .output_prompt {\n",
       "    /* display: none; */\n",
       "    display: block;\n",
       "}\n",
       "</style>"
      ],
      "text/plain": [
       "<IPython.core.display.HTML object>"
      ]
     },
     "execution_count": 1,
     "metadata": {},
     "output_type": "execute_result"
    }
   ],
   "source": [
    "from IPython.display import HTML\n",
    "HTML('''<style type=\"text/css\">\n",
    ".output_area, .output_prompt {\n",
    "    /* display: none; */\n",
    "    display: block;\n",
    "}\n",
    "</style>''')"
   ]
  },
  {
   "cell_type": "markdown",
   "metadata": {},
   "source": [
    "Bugs are codes that result in errors or wrong results."
   ]
  },
  {
   "cell_type": "code",
   "execution_count": 2,
   "metadata": {
    "collapsed": false
   },
   "outputs": [
    {
     "ename": "SyntaxError",
     "evalue": "can't assign to literal (<ipython-input-2-9ee7d95674de>, line 4)",
     "output_type": "error",
     "traceback": [
      "\u001b[1;36m  File \u001b[1;32m\"<ipython-input-2-9ee7d95674de>\"\u001b[1;36m, line \u001b[1;32m4\u001b[0m\n\u001b[1;33m    b = 1 = 2  # Syntax error\u001b[0m\n\u001b[1;37m       ^\u001b[0m\n\u001b[1;31mSyntaxError\u001b[0m\u001b[1;31m:\u001b[0m can't assign to literal\n"
     ]
    }
   ],
   "source": [
    "# Syntax error\n",
    "x = 1; y = 2\n",
    "b = x == y # Boolean variable that is true when x & y have the same value\n",
    "b = 1 = 2  # Syntax error"
   ]
  },
  {
   "cell_type": "code",
   "execution_count": 3,
   "metadata": {
    "collapsed": false
   },
   "outputs": [
    {
     "ename": "ZeroDivisionError",
     "evalue": "division by zero",
     "output_type": "error",
     "traceback": [
      "\u001b[1;31m---------------------------------------------------------------------------\u001b[0m",
      "\u001b[1;31mZeroDivisionError\u001b[0m                         Traceback (most recent call last)",
      "\u001b[1;32m<ipython-input-3-5159220cbbac>\u001b[0m in \u001b[0;36m<module>\u001b[1;34m()\u001b[0m\n\u001b[0;32m      1\u001b[0m \u001b[1;31m# Exception - invalid operation\u001b[0m\u001b[1;33m\u001b[0m\u001b[1;33m\u001b[0m\u001b[0m\n\u001b[1;32m----> 2\u001b[1;33m \u001b[1;36m5\u001b[0m\u001b[1;33m/\u001b[0m\u001b[1;36m0\u001b[0m  \u001b[1;31m# Division by zero\u001b[0m\u001b[1;33m\u001b[0m\u001b[0m\n\u001b[0m",
      "\u001b[1;31mZeroDivisionError\u001b[0m: division by zero"
     ]
    }
   ],
   "source": [
    "# Exception - invalid operation\n",
    "5/0  # Division by zero"
   ]
  },
  {
   "cell_type": "code",
   "execution_count": 4,
   "metadata": {
    "collapsed": false
   },
   "outputs": [
    {
     "ename": "TypeError",
     "evalue": "unsupported operand type(s) for /: 'str' and 'int'",
     "output_type": "error",
     "traceback": [
      "\u001b[1;31m---------------------------------------------------------------------------\u001b[0m",
      "\u001b[1;31mTypeError\u001b[0m                                 Traceback (most recent call last)",
      "\u001b[1;32m<ipython-input-4-230afc80c344>\u001b[0m in \u001b[0;36m<module>\u001b[1;34m()\u001b[0m\n\u001b[0;32m      1\u001b[0m \u001b[1;31m# Exception - invalid operation\u001b[0m\u001b[1;33m\u001b[0m\u001b[1;33m\u001b[0m\u001b[0m\n\u001b[1;32m----> 2\u001b[1;33m \u001b[1;34m'44'\u001b[0m\u001b[1;33m/\u001b[0m\u001b[1;36m11\u001b[0m  \u001b[1;31m# Incompatiable types for the operation\u001b[0m\u001b[1;33m\u001b[0m\u001b[0m\n\u001b[0m",
      "\u001b[1;31mTypeError\u001b[0m: unsupported operand type(s) for /: 'str' and 'int'"
     ]
    }
   ],
   "source": [
    "# Exception - invalid operation\n",
    "'44'/11  # Incompatiable types for the operation"
   ]
  },
  {
   "cell_type": "code",
   "execution_count": 5,
   "metadata": {
    "collapsed": false
   },
   "outputs": [
    {
     "data": {
      "text/plain": [
       "False"
      ]
     },
     "execution_count": 5,
     "metadata": {},
     "output_type": "execute_result"
    }
   ],
   "source": [
    "# Incorrect logic\n",
    "import math\n",
    "x = 55\n",
    "math.sin(x)**2 + math.cos(x) == 1  # Should be math.cos(x)**2"
   ]
  },
  {
   "cell_type": "markdown",
   "metadata": {},
   "source": [
    "# Debugging a Program"
   ]
  },
  {
   "cell_type": "markdown",
   "metadata": {},
   "source": [
    "## Program With Syntax Error"
   ]
  },
  {
   "cell_type": "code",
   "execution_count": 6,
   "metadata": {
    "collapsed": false
   },
   "outputs": [
    {
     "ename": "IndentationError",
     "evalue": "unindent does not match any outer indentation level (<ipython-input-6-104717f4adf7>, line 13)",
     "output_type": "error",
     "traceback": [
      "\u001b[1;36m  File \u001b[1;32m\"<ipython-input-6-104717f4adf7>\"\u001b[1;36m, line \u001b[1;32m13\u001b[0m\n\u001b[1;33m    else:\u001b[0m\n\u001b[1;37m         ^\u001b[0m\n\u001b[1;31mIndentationError\u001b[0m\u001b[1;31m:\u001b[0m unindent does not match any outer indentation level\n"
     ]
    }
   ],
   "source": [
    "# Buggy Python program to check if the input number is prime or not\n",
    "\n",
    "# take input from the user\n",
    "num = int(input(\"Enter a number: \"))\n",
    "\n",
    "# prime numbers are greater than 1\n",
    "if num > 1:\n",
    "  # check for factors\n",
    "  for i in range(2,num):\n",
    "    if (num % i) == 0:\n",
    "      print(num,\"is not a prime number\")\n",
    "      print(i,\"times\",num//i,\"is\",num)\n",
    "     else:\n",
    "      print(num,\"is a prime number\")\n",
    "       \n",
    "# if input number is less than\n",
    "# or equal to 1, it is not prime\n",
    "else:\n",
    "   print(num,\"is not a prime number\")"
   ]
  },
  {
   "cell_type": "markdown",
   "metadata": {},
   "source": [
    "## Corrected Syntax Error. But still have a logic Error."
   ]
  },
  {
   "cell_type": "code",
   "execution_count": 9,
   "metadata": {
    "collapsed": false
   },
   "outputs": [
    {
     "name": "stdout",
     "output_type": "stream",
     "text": [
      "Enter a number: 55\n",
      "55 is a prime number\n",
      "55 is a prime number\n",
      "55 is a prime number\n",
      "55 is not a prime number\n",
      "5 times 11 is 55\n",
      "55 is a prime number\n",
      "55 is a prime number\n",
      "55 is a prime number\n",
      "55 is a prime number\n",
      "55 is a prime number\n",
      "55 is not a prime number\n",
      "11 times 5 is 55\n",
      "55 is a prime number\n",
      "55 is a prime number\n",
      "55 is a prime number\n",
      "55 is a prime number\n",
      "55 is a prime number\n",
      "55 is a prime number\n",
      "55 is a prime number\n",
      "55 is a prime number\n",
      "55 is a prime number\n",
      "55 is a prime number\n",
      "55 is a prime number\n",
      "55 is a prime number\n",
      "55 is a prime number\n",
      "55 is a prime number\n",
      "55 is a prime number\n",
      "55 is a prime number\n",
      "55 is a prime number\n",
      "55 is a prime number\n",
      "55 is a prime number\n",
      "55 is a prime number\n",
      "55 is a prime number\n",
      "55 is a prime number\n",
      "55 is a prime number\n",
      "55 is a prime number\n",
      "55 is a prime number\n",
      "55 is a prime number\n",
      "55 is a prime number\n",
      "55 is a prime number\n",
      "55 is a prime number\n",
      "55 is a prime number\n",
      "55 is a prime number\n",
      "55 is a prime number\n",
      "55 is a prime number\n",
      "55 is a prime number\n",
      "55 is a prime number\n",
      "55 is a prime number\n",
      "55 is a prime number\n",
      "55 is a prime number\n",
      "55 is a prime number\n",
      "55 is a prime number\n",
      "55 is a prime number\n",
      "55 is a prime number\n",
      "55 is a prime number\n"
     ]
    }
   ],
   "source": [
    "# Buggy Python program to check if the input number is prime or not\n",
    "\n",
    "# take input from the user\n",
    "num = int(input(\"Enter a number: \"))\n",
    "\n",
    "# prime numbers are greater than 1\n",
    "if num > 1:\n",
    "  # check for factors\n",
    "  for i in range(2,num):\n",
    "    if (num % i) == 0:\n",
    "      print(num,\"is not a prime number\")\n",
    "      print(i,\"times\",num//i,\"is\",num)\n",
    "    else:\n",
    "      print(num,\"is a prime number\")\n",
    "       \n",
    "# if input number is less than\n",
    "# or equal to 1, it is not prime\n",
    "else:\n",
    "   print(num,\"is not a prime number\")"
   ]
  },
  {
   "cell_type": "code",
   "execution_count": 10,
   "metadata": {
    "collapsed": false
   },
   "outputs": [
    {
     "name": "stdout",
     "output_type": "stream",
     "text": [
      "Enter a number: 66\n",
      "66 is not a prime number\n",
      "2 times 33 is 66\n"
     ]
    }
   ],
   "source": [
    "# Correct version: Python program to check if the input number is prime or not\n",
    "\n",
    "# take input from the user\n",
    "num = int(input(\"Enter a number: \"))\n",
    "\n",
    "# prime numbers are greater than 1\n",
    "if num > 1:\n",
    "  # check for factors\n",
    "  for i in range(2,num):\n",
    "    if (num % i) == 0:\n",
    "      print(num,\"is not a prime number\")\n",
    "      print(i,\"times\",num//i,\"is\",num)\n",
    "      break\n",
    "  else:\n",
    "    print(num,\"is a prime number\")\n",
    "       \n",
    "# if input number is less than\n",
    "# or equal to 1, it is not prime\n",
    "else:\n",
    "  print(num,\"is not a prime number\")"
   ]
  },
  {
   "cell_type": "markdown",
   "metadata": {},
   "source": [
    "# How Do We Find Bugs?"
   ]
  },
  {
   "cell_type": "markdown",
   "metadata": {},
   "source": [
    "# Basics"
   ]
  },
  {
   "cell_type": "markdown",
   "metadata": {},
   "source": [
    "Debugging has the following steps:\n",
    "\n",
    "1. Detection - determine that there is an error\n",
    "2. Isolation - determine what part of the program causes the error\n",
    "3. Resolution - Change the code to eliminate the error"
   ]
  },
  {
   "cell_type": "markdown",
   "metadata": {
    "collapsed": true
   },
   "source": [
    "# Detection"
   ]
  },
  {
   "cell_type": "markdown",
   "metadata": {},
   "source": [
    "### Syntax Error"
   ]
  },
  {
   "cell_type": "code",
   "execution_count": 11,
   "metadata": {
    "collapsed": false
   },
   "outputs": [
    {
     "name": "stdout",
     "output_type": "stream",
     "text": [
      "Enter a number: 77\n",
      "77 is a prime number\n",
      "77 is a prime number\n",
      "77 is a prime number\n",
      "77 is a prime number\n",
      "77 is a prime number\n",
      "77 is not a prime number\n",
      "7 times 11 is 77\n",
      "77 is a prime number\n",
      "77 is a prime number\n",
      "77 is a prime number\n",
      "77 is not a prime number\n",
      "11 times 7 is 77\n",
      "77 is a prime number\n",
      "77 is a prime number\n",
      "77 is a prime number\n",
      "77 is a prime number\n",
      "77 is a prime number\n",
      "77 is a prime number\n",
      "77 is a prime number\n",
      "77 is a prime number\n",
      "77 is a prime number\n",
      "77 is a prime number\n",
      "77 is a prime number\n",
      "77 is a prime number\n",
      "77 is a prime number\n",
      "77 is a prime number\n",
      "77 is a prime number\n",
      "77 is a prime number\n",
      "77 is a prime number\n",
      "77 is a prime number\n",
      "77 is a prime number\n",
      "77 is a prime number\n",
      "77 is a prime number\n",
      "77 is a prime number\n",
      "77 is a prime number\n",
      "77 is a prime number\n",
      "77 is a prime number\n",
      "77 is a prime number\n",
      "77 is a prime number\n",
      "77 is a prime number\n",
      "77 is a prime number\n",
      "77 is a prime number\n",
      "77 is a prime number\n",
      "77 is a prime number\n",
      "77 is a prime number\n",
      "77 is a prime number\n",
      "77 is a prime number\n",
      "77 is a prime number\n",
      "77 is a prime number\n",
      "77 is a prime number\n",
      "77 is a prime number\n",
      "77 is a prime number\n",
      "77 is a prime number\n",
      "77 is a prime number\n",
      "77 is a prime number\n",
      "77 is a prime number\n",
      "77 is a prime number\n",
      "77 is a prime number\n",
      "77 is a prime number\n",
      "77 is a prime number\n",
      "77 is a prime number\n",
      "77 is a prime number\n",
      "77 is a prime number\n",
      "77 is a prime number\n",
      "77 is a prime number\n",
      "77 is a prime number\n",
      "77 is a prime number\n",
      "77 is a prime number\n",
      "77 is a prime number\n",
      "77 is a prime number\n",
      "77 is a prime number\n",
      "77 is a prime number\n",
      "77 is a prime number\n",
      "77 is a prime number\n",
      "77 is a prime number\n",
      "77 is a prime number\n",
      "77 is a prime number\n"
     ]
    }
   ],
   "source": [
    "# take input from the user\n",
    "num = int(input(\"Enter a number: \"))\n",
    "\n",
    "# prime numbers are greater than 1\n",
    "if num > 1:\n",
    "  # check for factors\n",
    "  for i in range(2,num):\n",
    "    if (num % i) == 0:\n",
    "      print(num,\"is not a prime number\")\n",
    "      print(i,\"times\",num//i,\"is\",num)\n",
    "    else:\n",
    "      print(num,\"is a prime number\")\n",
    "       \n",
    "# if input number is less than\n",
    "# or equal to 1, it is not prime\n",
    "else:\n",
    "   print(num,\"is not a prime number\")"
   ]
  },
  {
   "cell_type": "markdown",
   "metadata": {},
   "source": [
    "### Exception"
   ]
  },
  {
   "cell_type": "code",
   "execution_count": 12,
   "metadata": {
    "collapsed": false
   },
   "outputs": [
    {
     "name": "stdout",
     "output_type": "stream",
     "text": [
      "Enter a number: 88\n"
     ]
    },
    {
     "ename": "TypeError",
     "evalue": "unorderable types: str() > int()",
     "output_type": "error",
     "traceback": [
      "\u001b[1;31m---------------------------------------------------------------------------\u001b[0m",
      "\u001b[1;31mTypeError\u001b[0m                                 Traceback (most recent call last)",
      "\u001b[1;32m<ipython-input-12-bd272c5c63a6>\u001b[0m in \u001b[0;36m<module>\u001b[1;34m()\u001b[0m\n\u001b[0;32m      3\u001b[0m \u001b[1;33m\u001b[0m\u001b[0m\n\u001b[0;32m      4\u001b[0m \u001b[1;31m# prime numbers are greater than 1\u001b[0m\u001b[1;33m\u001b[0m\u001b[1;33m\u001b[0m\u001b[0m\n\u001b[1;32m----> 5\u001b[1;33m \u001b[1;32mif\u001b[0m \u001b[0mnum\u001b[0m \u001b[1;33m>\u001b[0m \u001b[1;36m1\u001b[0m\u001b[1;33m:\u001b[0m\u001b[1;33m\u001b[0m\u001b[0m\n\u001b[0m\u001b[0;32m      6\u001b[0m   \u001b[1;31m# check for factors\u001b[0m\u001b[1;33m\u001b[0m\u001b[1;33m\u001b[0m\u001b[0m\n\u001b[0;32m      7\u001b[0m   \u001b[1;32mfor\u001b[0m \u001b[0mi\u001b[0m \u001b[1;32min\u001b[0m \u001b[0mrange\u001b[0m\u001b[1;33m(\u001b[0m\u001b[1;36m2\u001b[0m\u001b[1;33m,\u001b[0m\u001b[0mnum\u001b[0m\u001b[1;33m)\u001b[0m\u001b[1;33m:\u001b[0m\u001b[1;33m\u001b[0m\u001b[0m\n",
      "\u001b[1;31mTypeError\u001b[0m: unorderable types: str() > int()"
     ]
    }
   ],
   "source": [
    "# Changed to create an exception\n",
    "num = input(\"Enter a number: \")\n",
    "\n",
    "# prime numbers are greater than 1\n",
    "if num > 1:\n",
    "  # check for factors\n",
    "  for i in range(2,num):\n",
    "    if (num % i) == 0:\n",
    "      print(num,\"is not a prime number\")\n",
    "      print(i,\"times\",num//i,\"is\",num)\n",
    "    else:\n",
    "      print(num,\"is a prime number\")\n",
    "       \n",
    "# if input number is less than\n",
    "# or equal to 1, it is not prime\n",
    "else:\n",
    "   print(num,\"is not a prime number\")"
   ]
  },
  {
   "cell_type": "markdown",
   "metadata": {},
   "source": [
    "### Logic Errors\n",
    "#### Easier to detect errors if encapsulate code in a function."
   ]
  },
  {
   "cell_type": "code",
   "execution_count": 13,
   "metadata": {
    "collapsed": true
   },
   "outputs": [],
   "source": [
    "# Prime number finder with a logic bug\n",
    "def primeFinder(num):\n",
    "  # Inputs: num - number to evaluate as prime\n",
    "  # Outputs: is_prime - True/False (is/not a prime)\n",
    "  #          explanation - explains why num is not prime\n",
    "\n",
    "  explanation = \"\"\n",
    "  # prime numbers are greater than 1\n",
    "  if num > 1:\n",
    "    # check for factors\n",
    "    for i in range(2,num):\n",
    "      if (num % i) == 0:\n",
    "        is_prime = False\n",
    "        explanation = \"%d times %d is %d\" % (i, num//i, num)\n",
    "    else:\n",
    "      is_prime = True\n",
    "       \n",
    "  # if input number is less than\n",
    "  # or equal to 1, it is not prime\n",
    "  else:\n",
    "    is_prime = False\n",
    "  return (is_prime, explanation)"
   ]
  },
  {
   "cell_type": "code",
   "execution_count": 14,
   "metadata": {
    "collapsed": false
   },
   "outputs": [
    {
     "data": {
      "text/plain": [
       "(True, '5 times 3 is 15')"
      ]
     },
     "execution_count": 14,
     "metadata": {},
     "output_type": "execute_result"
    }
   ],
   "source": [
    "# Using the function\n",
    "primeFinder(15)"
   ]
  },
  {
   "cell_type": "code",
   "execution_count": 15,
   "metadata": {
    "collapsed": false
   },
   "outputs": [
    {
     "data": {
      "text/plain": [
       "(True, '')"
      ]
     },
     "execution_count": 15,
     "metadata": {},
     "output_type": "execute_result"
    }
   ],
   "source": [
    "primeFinder(31)"
   ]
  },
  {
   "cell_type": "code",
   "execution_count": 16,
   "metadata": {
    "collapsed": false
   },
   "outputs": [
    {
     "name": "stdout",
     "output_type": "stream",
     "text": [
      "15: (True, '5 times 3 is 15')\n",
      "31: (True, '')\n",
      "32: (True, '16 times 2 is 32')\n"
     ]
    }
   ],
   "source": [
    "nums = [15, 31, 32]  # Test cases\n",
    "for n in nums:\n",
    "  print (\"%d: %s\" % (n, primeFinder(n)))"
   ]
  },
  {
   "cell_type": "markdown",
   "metadata": {},
   "source": [
    "#### Better problem isolation with print statements"
   ]
  },
  {
   "cell_type": "code",
   "execution_count": 17,
   "metadata": {
    "collapsed": true
   },
   "outputs": [],
   "source": [
    "# Prime number finder with a logic bug\n",
    "def primeFinder(num):\n",
    "  # Inputs: num - number to evaluate as prime\n",
    "  # Outputs: is_prime - True/False (is/not a prime)\n",
    "  #          explanation - explains why num is not prime\n",
    "\n",
    "  explanation = \"\"\n",
    "  # prime numbers are greater than 1\n",
    "  if num > 1:\n",
    "    # check for factors\n",
    "    for i in range(2,num):\n",
    "      if (num % i) == 0:\n",
    "        print (\"*num %% i: %d\" % i)  # DEBUG\n",
    "        is_prime = False\n",
    "        explanation = \"%d times %d is %d\" % (i, num//i, num)\n",
    "    else:\n",
    "      print (\"*else:\")  # DEBUG\n",
    "      is_prime = True\n",
    "       \n",
    "  # if input number is less than\n",
    "  # or equal to 1, it is not prime\n",
    "  else:\n",
    "    is_prime = False\n",
    "  return (is_prime, explanation)"
   ]
  },
  {
   "cell_type": "markdown",
   "metadata": {},
   "source": [
    "#### Correct Code"
   ]
  },
  {
   "cell_type": "code",
   "execution_count": 18,
   "metadata": {
    "collapsed": true
   },
   "outputs": [],
   "source": [
    "# Prime number finder with a logic bug\n",
    "def primeFinder(num):\n",
    "  # Inputs: num - number to evaluate as prime\n",
    "  # Outputs: is_prime - True/False (is/not a prime)\n",
    "  #          explanation - explains why num is not prime\n",
    "\n",
    "  explanation = \"\"\n",
    "  # prime numbers are greater than 1\n",
    "  if num > 1:\n",
    "    # check for factors\n",
    "    for i in range(2,num):\n",
    "      if (num % i) == 0:\n",
    "        is_prime = False\n",
    "        explanation = \"%d times %d is %d\" % (i, num//i, num)\n",
    "        break\n",
    "    else:\n",
    "      is_prime = True\n",
    "       \n",
    "  # if input number is less than\n",
    "  # or equal to 1, it is not prime\n",
    "  else:\n",
    "    is_prime = False\n",
    "  return (is_prime, explanation)"
   ]
  },
  {
   "cell_type": "markdown",
   "metadata": {},
   "source": [
    "# Unit Tests"
   ]
  }
 ],
 "metadata": {
  "kernelspec": {
   "display_name": "Python 3",
   "language": "python",
   "name": "python3"
  },
  "language_info": {
   "codemirror_mode": {
    "name": "ipython",
    "version": 3
   },
   "file_extension": ".py",
   "mimetype": "text/x-python",
   "name": "python",
   "nbconvert_exporter": "python",
   "pygments_lexer": "ipython3",
   "version": "3.5.1"
  }
 },
 "nbformat": 4,
 "nbformat_minor": 0
}
