{
 "cells": [
  {
   "cell_type": "markdown",
   "metadata": {},
   "source": [
    "## What are software bugs?\n",
    "A [software bug](https://en.wikipedia.org/wiki/Software_bug) is a flaw in a computer program that causes it to produce an error or an incorrect result, often causing the program to behave unexpectedly."
   ]
  },
  {
   "cell_type": "code",
   "execution_count": null,
   "metadata": {
    "collapsed": false
   },
   "outputs": [],
   "source": [
    "# Bug example: incorrect logic\n",
    "import math\n",
    "x = 55\n",
    "math.sin(x)**2 + math.cos(x) == 1  # trig identity, expect True"
   ]
  },
  {
   "cell_type": "markdown",
   "metadata": {},
   "source": [
    "Notice that Python gives us an answer, just not the answer we expect. These types of bugs are particularly troublesome, since they are easily overlooked.\n",
    "\n",
    "On to more examples..."
   ]
  },
  {
   "cell_type": "code",
   "execution_count": null,
   "metadata": {
    "collapsed": false
   },
   "outputs": [],
   "source": [
    "# Bug example: syntax error\n",
    "b = 1 = 2"
   ]
  },
  {
   "cell_type": "code",
   "execution_count": null,
   "metadata": {
    "collapsed": false
   },
   "outputs": [],
   "source": [
    "# Bug example: invalid operation\n",
    "5/0"
   ]
  },
  {
   "cell_type": "code",
   "execution_count": null,
   "metadata": {
    "collapsed": false
   },
   "outputs": [],
   "source": [
    "# Bug example: invalid operation\n",
    "'44'/11"
   ]
  },
  {
   "cell_type": "markdown",
   "metadata": {},
   "source": [
    "The previous three bug examples fail to give answer (either correct nor incorrect). Instead, the output is one of `SyntaxError`, `ZeroDivisionError`, `TypeError` along with verbose messages. These are all examples of **exceptions**.\n",
    "\n",
    "## Exceptions\n",
    "\n",
    "An **exception** is a Python object that represents an error. Typically, it is an object-oriented programming template called a **class**, but it can also be other objects like strings.\n",
    "\n",
    "In general, when a Python script encounters an expression that it cannot cope with, it raises an exception. From there, the normal flow of the program is disrupted until it is handled.\n",
    "\n",
    "Let's explore using an example function that splits a restaurant bill..."
   ]
  },
  {
   "cell_type": "code",
   "execution_count": null,
   "metadata": {
    "collapsed": true
   },
   "outputs": [],
   "source": [
    "# Calculates amount to split bill amongst n friends after some amount paid in cash\n",
    "def calculate_split_bill(bill, cash, n):\n",
    "    # Inputs: bill - bill amount in dollars\n",
    "    #         cash - amount left in cash by early departing guests in dollars\n",
    "    #         n - number of remaining guests to split bill\n",
    "    split_amount = (bill - cash) / n\n",
    "    \n",
    "    print(\"Cash from early departing guests: $\", cash)\n",
    "    print(\"Each remaining person pays $\", split_amount, \"on their credit card.\")"
   ]
  },
  {
   "cell_type": "code",
   "execution_count": null,
   "metadata": {
    "collapsed": false
   },
   "outputs": [],
   "source": [
    "calculate_split_bill(135.34, 10, 6)"
   ]
  },
  {
   "cell_type": "code",
   "execution_count": null,
   "metadata": {
    "collapsed": false
   },
   "outputs": [],
   "source": [
    "calculate_split_bill(34.56, \"ten\", 2)"
   ]
  },
  {
   "cell_type": "code",
   "execution_count": null,
   "metadata": {
    "collapsed": true
   },
   "outputs": [],
   "source": [
    "# Calculates amount to split bill amongst n friends after some amount paid in cash\n",
    "def calculate_split_bill(bill, cash, n):\n",
    "    try:\n",
    "        split_amount = (bill - cash) / n\n",
    "        print(\"Cash from early departing guests: $\", cash)\n",
    "        print(\"Each remaining person pays $\", split_amount, \"on their credit card.\")\n",
    "    except:\n",
    "        print(\"Can not calculate bill.\")"
   ]
  },
  {
   "cell_type": "code",
   "execution_count": null,
   "metadata": {
    "collapsed": false
   },
   "outputs": [],
   "source": [
    "calculate_split_bill(7.89, 8, 0)"
   ]
  },
  {
   "cell_type": "code",
   "execution_count": null,
   "metadata": {
    "collapsed": true
   },
   "outputs": [],
   "source": [
    "# Calculates amount to split bill amongst n friends after some amount paid in cash\n",
    "def calculate_split_bill(bill, cash, n):\n",
    "    try:\n",
    "        split_amount = (bill - cash) / n    \n",
    "        print(\"Cash from early departing guests: $\", cash)\n",
    "        print(\"Each remaining person pays $\", split_amount, \"on their credit card.\")\n",
    "    except TypeError:\n",
    "        print(\"Can not calculate bill due to invalid type, please use float or int.\")\n",
    "    except ZeroDivisionError:\n",
    "        print(\"Can not split a bill between zero people. Duh!\")"
   ]
  },
  {
   "cell_type": "markdown",
   "metadata": {},
   "source": [
    "Read more about exceptions here:\n",
    "https://docs.python.org/3/tutorial/errors.html\n",
    "    \n",
    "Read more about Python's built-in exception classes here:\n",
    "https://docs.python.org/3/library/exceptions.html\n",
    "\n",
    "## Moving onto debugging\n",
    "\n",
    "Debugging is the process of removing software bugs from code. Three methods for doing so are adding print statements in-line, printing to a log file, or using a debugger.\n",
    "\n",
    "From here on out, we'll be using a Markov sentence generator for our example.\n",
    "\n",
    "### Markov sentence generator\n",
    "\n",
    "The sentence generator works by looking at pairs of words (called bigrams), recording the instances where *FIRST_WORD* leads immediately to *SECOND_WORD*.\n",
    "\n",
    "For our implementation, we will strip punctuation and place the results into a dictionary where the keys are *FIRST_WORD* and the values are lists of the subsequent *SECOND_WORD*.\n",
    "\n",
    "`\"This is a test sentence\"` would generate the following dictionary:\n",
    "\n",
    "```python\n",
    "{'This': ['is'],\n",
    " 'a': ['test'],\n",
    " 'is': ['a'],\n",
    " 'test': ['sentence']}\n",
    "```\n",
    "\n",
    "After that, we will use the lists in this dictionary to generate our own sentences! But not before encountering a few bugs..."
   ]
  },
  {
   "cell_type": "code",
   "execution_count": null,
   "metadata": {
    "collapsed": false
   },
   "outputs": [],
   "source": [
    "import string\n",
    "text = \"This is a test sentence used as our text corpus, which is what makes this text generator work.\""
   ]
  },
  {
   "cell_type": "code",
   "execution_count": null,
   "metadata": {
    "collapsed": false
   },
   "outputs": [],
   "source": [
    "bigrams = {}\n",
    "\n",
    "# Remove punctuation from sentences\n",
    "for char in strinq.punctuation:\n",
    "    text = text.replace(char, '')\n",
    "# Split by word\n",
    "words = text.split()\n",
    "for i in range(len(words)):\n",
    "    # Add bigram to dict\n",
    "    bigrams[words[i]].append(words[i+1])\n",
    "\n",
    "bigrams"
   ]
  },
  {
   "cell_type": "markdown",
   "metadata": {},
   "source": [
    "Fixing the syntax error was pretty painless.\n",
    "\n",
    "Let's assume we haven't encountered a `KeyError` exception before, so we decide to use the first strategy for debugging -- adding print statements.\n",
    "\n",
    "There are a couple of variables that may be informative, so we'll print those out as the program executes."
   ]
  },
  {
   "cell_type": "code",
   "execution_count": null,
   "metadata": {
    "collapsed": false
   },
   "outputs": [],
   "source": [
    "bigrams = {}\n",
    "\n",
    "# Remove punctuation from sentences\n",
    "for char in string.punctuation:\n",
    "    text = text.replace(char, '')\n",
    "# Split by word\n",
    "words = text.split()\n",
    "for i in range(len(words)):\n",
    "    # Add bigram to dict\n",
    "    bigrams[words[i]].append(words[i+1])\n",
    "    print(\"i:\", i)\n",
    "    print(\"words[i]:\", words[i])\n",
    "    print(\"bigrams[words[i]]:\", bigrams[words[i]])\n",
    "    print(\"words[i+1]:\", words[i+1])\n",
    "\n",
    "bigrams"
   ]
  },
  {
   "cell_type": "code",
   "execution_count": null,
   "metadata": {
    "collapsed": false
   },
   "outputs": [],
   "source": [
    "bigrams = {}\n",
    "\n",
    "# Remove punctuation from sentences\n",
    "for char in string.punctuation:\n",
    "    text = text.replace(char, '')\n",
    "# Split by word\n",
    "words = text.split()\n",
    "for i in range(len(words)):\n",
    "    # Add empty list to dict if none there\n",
    "    if words[i] not in bigrams:\n",
    "        bigrams[words[i]] = []\n",
    "    # Add bigram to dict\n",
    "    bigrams[words[i]].append(words[i+1])\n",
    "\n",
    "bigrams"
   ]
  },
  {
   "cell_type": "code",
   "execution_count": null,
   "metadata": {
    "collapsed": false
   },
   "outputs": [],
   "source": [
    "%pdb on"
   ]
  },
  {
   "cell_type": "code",
   "execution_count": null,
   "metadata": {
    "collapsed": false
   },
   "outputs": [],
   "source": [
    "bigrams = {}\n",
    "\n",
    "# Remove punctuation from sentences\n",
    "for char in string.punctuation:\n",
    "    text = text.replace(char, '')\n",
    "# Split by word\n",
    "words = text.split()\n",
    "for i in range(len(words)-1):\n",
    "    # Add empty list to dict if none there\n",
    "    if words[i] not in bigrams:\n",
    "        bigrams[words[i]] = []\n",
    "    # Add bigram to dict\n",
    "    bigrams[words[i]].append(words[i+1])\n",
    "\n",
    "bigrams"
   ]
  },
  {
   "cell_type": "markdown",
   "metadata": {},
   "source": [
    "Woo hoo! Now we get a dictionary as expected.\n",
    "\n",
    "But we've only done this with one sentence. To get better code, we should test many more sentences.\n",
    "\n",
    "## Testing our code\n",
    "\n",
    "Jupyter notebooks make it pretty easy to go back to our cell with `text` and replace it with another sentence. Unfortunately, it's not quite as easy in an actual .py file.\n",
    "\n",
    "The process of trying more and more text would be much easier if we encapulated the dictionary code in a function.\n",
    "\n",
    "### Wrapping it in a function"
   ]
  },
  {
   "cell_type": "code",
   "execution_count": null,
   "metadata": {
    "collapsed": true
   },
   "outputs": [],
   "source": [
    "# Generates a dictionary that pairs first word of each bigram with second word\n",
    "def generate_bigram_dictionary(text):\n",
    "    # Input: text - string with corpa where sentences end with '!', '.', or '?'\n",
    "    # Output: dictionary that links FIRST_WORD of each bigram to SECOND_WORD\n",
    "    bigrams = {}\n",
    "\n",
    "    # Remove punctuation from sentences\n",
    "    for char in string.punctuation:\n",
    "        text = text.replace(char, '')\n",
    "    # Split by word\n",
    "    words = text.split()\n",
    "    for i in range(len(words)-1):\n",
    "        # Add empty list to dict if none there\n",
    "        if words[i] not in bigrams:\n",
    "            bigrams[words[i]] = []\n",
    "        # Add bigram to dict\n",
    "        bigrams[words[i]].append(words[i+1])\n",
    "\n",
    "    return bigrams"
   ]
  },
  {
   "cell_type": "code",
   "execution_count": null,
   "metadata": {
    "collapsed": false
   },
   "outputs": [],
   "source": [
    "generate_bigram_dictionary(\"I've made another test sentence of the dictionary function.\")"
   ]
  },
  {
   "cell_type": "code",
   "execution_count": null,
   "metadata": {
    "collapsed": false
   },
   "outputs": [],
   "source": [
    "generate_bigram_dictionary(\"I'm not going to include apostrophes in my punctuation list!\",\n",
    "                           ['.', '!', ';', '?'])"
   ]
  },
  {
   "cell_type": "markdown",
   "metadata": {},
   "source": [
    "## Unit tests using unittest\n",
    "\n",
    "Instead of calling these functions by hand every time we want to run our tests, we can create a test suite to run. We'll use the **unittest** package, which comes with base Python, to do so.\n",
    "\n",
    "### What are unit tests?\n",
    "Unit testing are where the smallest testable parts of an application, called units, are individually and independently scrutinized for proper operation. \n",
    "\n",
    "This can often be a function or smaller than that.\n",
    "\n",
    "Some things to test may be: handling reoccuring words, handling empty sentences, etc."
   ]
  },
  {
   "cell_type": "code",
   "execution_count": null,
   "metadata": {
    "collapsed": false
   },
   "outputs": [],
   "source": [
    "generate_bigram_dictionary(\"This is the first sentence. And this one is the second sentence.\")"
   ]
  },
  {
   "cell_type": "code",
   "execution_count": null,
   "metadata": {
    "collapsed": false
   },
   "outputs": [],
   "source": [
    "# Generates a dictionary that pairs first word of each bigram with second word\n",
    "def generate_bigram_dictionary(text, punctuation=string.punctuation):\n",
    "    # Input: text - string with corpa where sentences end with '!', '.', or '?'\n",
    "    #        punctuation - list of punctuation marks to exclude (default = string.punctuation)\n",
    "    # Output: dictionary that links FIRST_WORD of each bigram to SECOND_WORD\n",
    "    bigrams = {}\n",
    "\n",
    "    # Remove punctuation from sentences\n",
    "    for char in punctuation:\n",
    "        text = text.replace(char, '')\n",
    "    # Split by word\n",
    "    words = text.split()\n",
    "    for i in range(len(words)-1):\n",
    "        # Add empty list to dict if none there\n",
    "        if words[i] not in bigrams:\n",
    "            bigrams[words[i]] = []\n",
    "        # Add bigram to dict\n",
    "        bigrams[words[i]].append(words[i+1])\n",
    "\n",
    "    return bigrams"
   ]
  },
  {
   "cell_type": "markdown",
   "metadata": {},
   "source": [
    "## Adding functionality using TDD\n",
    "\n",
    "Test-driven development is a programming practice where developers write unit test BEFORE they write the code.\n",
    "\n",
    "We want to add functionality to handle multiple sentences, so we'll practice TDD by adding unit tests before doing so."
   ]
  },
  {
   "cell_type": "code",
   "execution_count": null,
   "metadata": {
    "collapsed": true
   },
   "outputs": [],
   "source": [
    "# Generates a dictionary that pairs first word of each bigram with second word\n",
    "def generate_bigram_dictionary(text, punctuation=string.punctuation):\n",
    "    # Input: text - string with corpa where sentences end with '!', '.', or '?'\n",
    "    #        punctuation - list of punctuation marks to exclude (default = string.punctuation)\n",
    "    # Output: dictionary that links FIRST_WORD of each bigram to SECOND_WORD\n",
    "    bigrams = {}\n",
    "\n",
    "    # Identify and mark ends of sentences\n",
    "    for ender in [\". \", \"! \", \"? \"]:\n",
    "        text = text.replace(ender, \" SENTENCEDELIMITER \")\n",
    "    # Remove punctuation from sentences\n",
    "    for char in punctuation:\n",
    "        text = text.replace(char, '')\n",
    "    # Split by word\n",
    "    words = text.split()\n",
    "    for i in range(len(words)-1):\n",
    "        # Add empty list to dict if none there\n",
    "        if words[i] not in bigrams:\n",
    "            bigrams[words[i]] = []\n",
    "        # Add bigram to dict\n",
    "        if words[i] != \"SENTENCEDELIMITER\":\n",
    "            bigrams[words[i]].append(words[i+1])\n",
    "\n",
    "    return bigrams"
   ]
  }
 ],
 "metadata": {
  "kernelspec": {
   "display_name": "Python 3",
   "language": "python",
   "name": "python3"
  },
  "language_info": {
   "codemirror_mode": {
    "name": "ipython",
    "version": 3
   },
   "file_extension": ".py",
   "mimetype": "text/x-python",
   "name": "python",
   "nbconvert_exporter": "python",
   "pygments_lexer": "ipython3",
   "version": "3.5.1"
  }
 },
 "nbformat": 4,
 "nbformat_minor": 0
}
