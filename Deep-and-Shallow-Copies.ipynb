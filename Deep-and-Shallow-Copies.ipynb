{
 "cells": [
  {
   "cell_type": "markdown",
   "metadata": {},
   "source": [
    "# Deep and Shallow Copies\n",
    "This short lecture addresses a common source of bugs in python (and other languages). This is illustrated below."
   ]
  },
  {
   "cell_type": "code",
   "execution_count": 1,
   "metadata": {},
   "outputs": [
    {
     "name": "stdout",
     "output_type": "stream",
     "text": [
      "[1, 2, 3, 4] [1, 2, 3, 4]\n"
     ]
    }
   ],
   "source": [
    "# BUGGY Code\n",
    "# Create a list\n",
    "list1 = [1, 2, 3]\n",
    "# Make a copy\n",
    "list2 = list1\n",
    "# Update the copy\n",
    "list2.append(4)\n",
    "# BUG: list1 has changed too!\n",
    "print(list1, list2)\n"
   ]
  },
  {
   "cell_type": "markdown",
   "metadata": {},
   "source": [
    "There are different ways in which an object can be copied. Typically, these are characterized as:\n",
    "- *Deep copy*: Allocate new memory and copy the object to this memory. Modifications to this memory has no effect on the original object.\n",
    "- *Shallow copy*: Create a pointer to the object. Modifications to the object are seen by all code with a pointer to the object."
   ]
  },
  {
   "cell_type": "markdown",
   "metadata": {},
   "source": [
    "In general, assigning one python variable to another creates a shallow copy."
   ]
  },
  {
   "cell_type": "code",
   "execution_count": 2,
   "metadata": {},
   "outputs": [
    {
     "name": "stdout",
     "output_type": "stream",
     "text": [
      "140477318603720 140477318603720\n"
     ]
    }
   ],
   "source": [
    "# Create a list\n",
    "list1 = [1, 2, 3]\n",
    "# Make a copy\n",
    "list2 = list1\n",
    "# Use \"id\" to see if list1 and list2 point to the same object\n",
    "print(id(list1), id(list2))"
   ]
  },
  {
   "cell_type": "markdown",
   "metadata": {},
   "source": [
    "To get a deep copy, you  must use a special method. For lists use the `list` function. For `pandas.DataFrame`, use the `copy` method."
   ]
  },
  {
   "cell_type": "code",
   "execution_count": 3,
   "metadata": {},
   "outputs": [
    {
     "name": "stdout",
     "output_type": "stream",
     "text": [
      "[1, 2, 3] [1, 2, 3, 4]\n"
     ]
    }
   ],
   "source": [
    "# Making a deep copy of a list.\n",
    "var3 = [1, 2, 3]\n",
    "var4 = list(var3)  # Make a copy of var3 to manipulate it\n",
    "var4.append(4)  # Add an element to var4\n",
    "# Changing var4 does not change var3\n",
    "print(var3, var4)"
   ]
  }
 ],
 "metadata": {
  "kernelspec": {
   "display_name": "Python 3",
   "language": "python",
   "name": "python3"
  },
  "language_info": {
   "codemirror_mode": {
    "name": "ipython",
    "version": 3
   },
   "file_extension": ".py",
   "mimetype": "text/x-python",
   "name": "python",
   "nbconvert_exporter": "python",
   "pygments_lexer": "ipython3",
   "version": "3.6.4"
  }
 },
 "nbformat": 4,
 "nbformat_minor": 2
}
