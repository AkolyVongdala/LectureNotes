{
 "cells": [
  {
   "cell_type": "markdown",
   "metadata": {},
   "source": [
    "# Writing Functions\n",
    "This lecture discusses the mechanics of writing functions and how to encapsulate scripts as functions."
   ]
  },
  {
   "cell_type": "markdown",
   "metadata": {},
   "source": [
    "## Running example\n",
    "Write a script that determines if a number is prime."
   ]
  },
  {
   "cell_type": "markdown",
   "metadata": {},
   "source": [
    "Determine if `num` is prime"
   ]
  },
  {
   "cell_type": "code",
   "execution_count": 7,
   "metadata": {},
   "outputs": [
    {
     "name": "stdout",
     "output_type": "stream",
     "text": [
      "Not prime!\n"
     ]
    }
   ],
   "source": [
    "# Determine if num is prime\n",
    "# This code has a bug. What is it?\n",
    "# Also, the efficiency of the code can be improved. How?\n",
    "num = 3\n",
    "is_prime = True\n",
    "for integer in range(1, num-1):\n",
    "    if num % integer == 0:\n",
    "        print(\"Not prime!\")\n",
    "        is_prime = False\n",
    "if is_prime:\n",
    "    print(\"Is prime!\")"
   ]
  },
  {
   "cell_type": "code",
   "execution_count": null,
   "metadata": {},
   "outputs": [],
   "source": [
    "# Extending the code to test if a list of numbers is prime\n",
    "a_list = [3, 6, 11]\n",
    "# How do we test all elements of the list?"
   ]
  },
  {
   "cell_type": "markdown",
   "metadata": {},
   "source": [
    "## Mechanics of Writing a Function\n",
    "- Function definition line - How python knows that this is a function\n",
    "- Function body - code that does the computation of the function\n",
    "- Formal arguments - arguments passed to the function\n",
    "- Return values - value returned to the caller\n",
    "- Name scopes"
   ]
  },
  {
   "cell_type": "code",
   "execution_count": 9,
   "metadata": {},
   "outputs": [],
   "source": [
    "# Transforming the prime number calculation script into a function"
   ]
  },
  {
   "cell_type": "markdown",
   "metadata": {},
   "source": [
    "## Exercise - Write a Function\n",
    "- Write a function that finds the factors of a provided number.\n",
    "  - What did you name the function?\n",
    "  - What are the formal arguments? What did you name them?\n",
    "  - What value(s) are returned?"
   ]
  },
  {
   "cell_type": "markdown",
   "metadata": {},
   "source": [
    "## Crafting a Function\n",
    "Crafting refers to what you want a function to do. \n",
    "- What are the arguments?\n",
    "- Should it refer to names outside the function definition?\n",
    "- Should it return a value?"
   ]
  },
  {
   "cell_type": "markdown",
   "metadata": {},
   "source": [
    "Problem: Write a function that finds all of the prime numbers less than a given value."
   ]
  },
  {
   "cell_type": "code",
   "execution_count": null,
   "metadata": {},
   "outputs": [],
   "source": [
    "# Function header: name, arguments"
   ]
  },
  {
   "cell_type": "code",
   "execution_count": null,
   "metadata": {},
   "outputs": [],
   "source": [
    "# Function logic"
   ]
  },
  {
   "cell_type": "code",
   "execution_count": 8,
   "metadata": {},
   "outputs": [],
   "source": [
    "# Choices for returning values.\n",
    "#  Explicit return\n",
    "#  Return that edits a list"
   ]
  },
  {
   "cell_type": "markdown",
   "metadata": {},
   "source": [
    "## Exercise - Craft a Function\n",
    "Create a function (or set of functions) that finds the prime factors of a number.\n",
    "- What did you name the function?\n",
    "- What are the arguments?\n",
    "- What does the function return?"
   ]
  }
 ],
 "metadata": {
  "kernelspec": {
   "display_name": "Python 3",
   "language": "python",
   "name": "python3"
  },
  "language_info": {
   "codemirror_mode": {
    "name": "ipython",
    "version": 3
   },
   "file_extension": ".py",
   "mimetype": "text/x-python",
   "name": "python",
   "nbconvert_exporter": "python",
   "pygments_lexer": "ipython3",
   "version": "3.6.4"
  }
 },
 "nbformat": 4,
 "nbformat_minor": 2
}
