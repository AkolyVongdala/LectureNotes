{
 "cells": [
  {
   "cell_type": "markdown",
   "metadata": {},
   "source": [
    "# Python Variables: Value or Address"
   ]
  },
  {
   "cell_type": "markdown",
   "metadata": {},
   "source": [
    "A python variable provides a way to access data in memory. These data are referred to as *objects*.\n",
    "\n",
    "Some objects are simple, like an integer or a float. In these cases, the name refers directly to the value of the object.\n",
    "\n",
    "However, other objects are more complicated. For example, the name for a `str` does not refer directly to the object's value. Rather, it refers to its *address*. This applies to a `list` as well. Another example of this is a DataFrame.\n",
    "\n",
    "The confusion between names and addresses is a common source of bugs in python codes."
   ]
  },
  {
   "cell_type": "markdown",
   "metadata": {},
   "source": [
    "## Reference by Value vs. Address\n",
    "**image**"
   ]
  },
  {
   "cell_type": "markdown",
   "metadata": {},
   "source": [
    "## Common Mistakes With Strings\n",
    "- Copying a string and updating the copy\n",
    "- Updating a string in a function"
   ]
  },
  {
   "cell_type": "markdown",
   "metadata": {},
   "source": [
    "## DataFrames"
   ]
  }
 ],
 "metadata": {
  "kernelspec": {
   "display_name": "Python 3",
   "language": "python",
   "name": "python3"
  },
  "language_info": {
   "codemirror_mode": {
    "name": "ipython",
    "version": 3
   },
   "file_extension": ".py",
   "mimetype": "text/x-python",
   "name": "python",
   "nbconvert_exporter": "python",
   "pygments_lexer": "ipython3",
   "version": "3.6.4"
  }
 },
 "nbformat": 4,
 "nbformat_minor": 2
}
