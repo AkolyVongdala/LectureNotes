{
 "cells": [
  {
   "cell_type": "markdown",
   "metadata": {},
   "source": [
    "# Values vs. Identity"
   ]
  },
  {
   "cell_type": "markdown",
   "metadata": {},
   "source": [
    "Politics informs software engineering. In the words of former President Bill Clinton:\n",
    "- \"It depends upon what the meaning of the word 'is' is\""
   ]
  },
  {
   "cell_type": "markdown",
   "metadata": {},
   "source": [
    "A python variable provides a way to access data in memory. Python refers to this data as an *object*. The same object can be referenced by many variables. But all objects are uniquely identified by the python function `id`. This function returns an integer that uniquely identifies the object."
   ]
  },
  {
   "cell_type": "markdown",
   "metadata": {},
   "source": [
    "## Immutable Objects"
   ]
  },
  {
   "cell_type": "markdown",
   "metadata": {},
   "source": [
    "Some objects are simple, like an integer or a float. These objects cannot change their value. They are referred to as *immutable objects*. So, if an immutable object is assigned to a variable, the changing the value of the variable requires also changing the `id` of the object."
   ]
  },
  {
   "cell_type": "code",
   "execution_count": null,
   "metadata": {},
   "outputs": [],
   "source": [
    "# Value and identity for an integer\n",
    "var1 = 3\n",
    "var1_id = id(var1)\n",
    "print(var1, var1_id)"
   ]
  },
  {
   "cell_type": "code",
   "execution_count": null,
   "metadata": {},
   "outputs": [],
   "source": [
    "# Changing the value of \"a\" means also changing the identity of \"a\"\n",
    "var1 = 4\n",
    "var1_id = id(var1)\n",
    "print(var1, var1_id)"
   ]
  },
  {
   "cell_type": "markdown",
   "metadata": {},
   "source": [
    "**Exercise**\n",
    "- What are some other examples of immuteable objects?"
   ]
  },
  {
   "cell_type": "markdown",
   "metadata": {},
   "source": [
    "## Mutable Objects\n",
    "The distinction between an object's value and its `id` becomes important when we deal with objects that can change their value, referred to as *mutable objects*. These objects begin their \"life\" with one value can change over time. "
   ]
  },
  {
   "cell_type": "code",
   "execution_count": null,
   "metadata": {},
   "outputs": [],
   "source": [
    "# Changing the value of a list does not change its \"id\"\n",
    "var2 = [1, 2, 3]\n",
    "var2_id = id(var2)\n",
    "print(var2, var2_id)"
   ]
  },
  {
   "cell_type": "code",
   "execution_count": null,
   "metadata": {},
   "outputs": [],
   "source": [
    "var2.append(4)  # The value of var2 has changed\n",
    "var2_id = id(var2)  # The \"id\" of var2 has not changed\n",
    "print(var2, var2_id)"
   ]
  },
  {
   "cell_type": "markdown",
   "metadata": {},
   "source": [
    "**Exercise**:\n",
    "- Is a DataFrame a mutable object?\n",
    "  - Why?\n",
    "  - What experiment would you conduct to verfiy your answer?"
   ]
  },
  {
   "cell_type": "markdown",
   "metadata": {},
   "source": [
    "## Common Mistakes With Mutable Objects"
   ]
  },
  {
   "cell_type": "markdown",
   "metadata": {},
   "source": [
    "*Definition*: A shallow copy of an object is a variable that has the same \"id\" as the original object.\n",
    "\n",
    "*Definition*: A deep copy of an object is a variable that has the same value as the original object but a different \"id\"."
   ]
  },
  {
   "cell_type": "code",
   "execution_count": null,
   "metadata": {},
   "outputs": [],
   "source": [
    "# Manipulating an immutable object\n",
    "var3 = 1\n",
    "var4 = var3  # Make a copy of var3 to manipulate it\n",
    "var4 += 1  # Add one to var4\n",
    "# var4 = var3 + 1\n",
    "print(var3, var4)"
   ]
  },
  {
   "cell_type": "code",
   "execution_count": null,
   "metadata": {},
   "outputs": [],
   "source": [
    "# Why not do the same for a mutable object?\n",
    "var3 = [1, 2, 3]\n",
    "var4 = var3  # Make a copy of var3 to manipulate it\n",
    "var4.append(4)  # Add an element to var4\n",
    "# ERROR: This changes var3 as well\n",
    "print(var3, var4)"
   ]
  },
  {
   "cell_type": "markdown",
   "metadata": {},
   "source": [
    "**Questions**\n",
    "- Did we make a shallow or a deep copy of `var3` in the statement `var4 = var3`? Why?\n",
    "- Why did var3 change?"
   ]
  },
  {
   "cell_type": "code",
   "execution_count": null,
   "metadata": {},
   "outputs": [],
   "source": [
    "# Making a deep copy of a list.\n",
    "var3 = [1, 2, 3]\n",
    "var4 = list(var3)  # Make a copy of var3 to manipulate it\n",
    "var4.append(4)  # Add an element to var4\n",
    "# Changing var4 does not change var3\n",
    "print(var3, var4)"
   ]
  },
  {
   "cell_type": "markdown",
   "metadata": {},
   "source": [
    "How you make a deep copy is object dependent. For dataframes, use the `copy` method."
   ]
  },
  {
   "cell_type": "markdown",
   "metadata": {},
   "source": [
    "**Question**\n",
    "- How could we check that `var4` is a deep copy?"
   ]
  },
  {
   "cell_type": "markdown",
   "metadata": {},
   "source": [
    "## Using Shallow Copies as input to Functions\n",
    "You can update a mutable object that is passed in a function. This is a convenience, but it can also be a source of bugs."
   ]
  },
  {
   "cell_type": "code",
   "execution_count": null,
   "metadata": {},
   "outputs": [],
   "source": [
    "def list_append(a_list, value):\n",
    "    \"\"\"\n",
    "    Appends value to the end of a_list.\n",
    "    :param list a_list:\n",
    "    :param object value:\n",
    "    \"\"\"\n",
    "    a_list.append(value)\n",
    "    \n",
    "var5 = list(range(10))\n",
    "print(\"Initial value of var5: %s\" % str(var5))\n",
    "list_append(var5, -1)\n",
    "print(\"Updated var5: %s\" % str(var5))"
   ]
  }
 ],
 "metadata": {
  "kernelspec": {
   "display_name": "Python 3",
   "language": "python",
   "name": "python3"
  },
  "language_info": {
   "codemirror_mode": {
    "name": "ipython",
    "version": 3
   },
   "file_extension": ".py",
   "mimetype": "text/x-python",
   "name": "python",
   "nbconvert_exporter": "python",
   "pygments_lexer": "ipython3",
   "version": "3.6.4"
  }
 },
 "nbformat": 4,
 "nbformat_minor": 2
}
