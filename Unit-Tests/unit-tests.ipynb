{
 "cells": [
  {
   "cell_type": "code",
   "execution_count": 19,
   "metadata": {
    "collapsed": true
   },
   "outputs": [],
   "source": [
    "import numpy as np"
   ]
  },
  {
   "cell_type": "markdown",
   "metadata": {},
   "source": [
    "# Unit Tests"
   ]
  },
  {
   "cell_type": "markdown",
   "metadata": {},
   "source": [
    "## Testing Principles\n",
    "Testing is the process by which you exercise your code to determine if it performs as expected. This means that a test has two parts:\n",
    "- An invocation of your code that exercises particular your code in particular ways.\n",
    "- An evaluation of the result and/or state of your code after execution completes\n",
    "\n",
    "Testing is *not* a standalone process. Typically, you are developing tests while you develop code. A common practice is called **test-driven development**. You write the tests *before* you implement the code. At a minimum, you will be modifying code as you find bugs."
   ]
  },
  {
   "cell_type": "markdown",
   "metadata": {},
   "source": [
    "## Applying the Testing Principles"
   ]
  },
  {
   "cell_type": "markdown",
   "metadata": {},
   "source": [
    "### Entropy of a set of probabilities\n",
    "$$\n",
    "H = -\\sum_i p_i \\log(p_i)\n",
    "$$"
   ]
  },
  {
   "cell_type": "code",
   "execution_count": 17,
   "metadata": {
    "collapsed": true
   },
   "outputs": [],
   "source": [
    "# Code for computing Entropy\n",
    "def entropy(ps):\n",
    "    items = ps * np.log(ps)\n",
    "    return -np.sum(items)"
   ]
  },
  {
   "cell_type": "markdown",
   "metadata": {},
   "source": [
    "Some kinds of tests\n",
    "- \"Simple test\" - run it for a case where the result is known\n",
    "- \"Smoke test\" - run it and see if it breaks\n",
    "- \"Edge test\" - run it for a case where it might break\n",
    "- \"Exploratory test\" - run it for cases where we don't know the result but we can bound what the result should be"
   ]
  },
  {
   "cell_type": "code",
   "execution_count": 28,
   "metadata": {},
   "outputs": [],
   "source": [
    "# Another simple test\n",
    "# Simple test\n",
    "size = 2\n",
    "prob = 1.0/size\n",
    "ps = np.repeat(prob , size)\n",
    "if entropy(ps) != -np.log(prob):\n",
    "    print (\"Got a bad result.\")"
   ]
  },
  {
   "cell_type": "markdown",
   "metadata": {},
   "source": [
    "It would be good to do a lot of tests. But it's cumbersome to organize them and check the results. We need some infrastructure support."
   ]
  },
  {
   "cell_type": "markdown",
   "metadata": {},
   "source": [
    "## Unittest Infrastructure"
   ]
  },
  {
   "cell_type": "markdown",
   "metadata": {},
   "source": [
    "Now that we know that certain arguments are invalid, we should test for this. Let's start with a little bit of infrastructure, the `unittest` framework provided by python.\n",
    "\n",
    "Using this infrastructure, requires the following:\n",
    "1. import the unittest module\n",
    "1. define a class that inherits from unittest.TestCase\n",
    "1. write methods that run the code to be tested and check the outcomes\n",
    "\n",
    "The last item is done by using `assert` methods. For example, `self.assertEqual` takes two arguments. If these are objects for which `==` returns `True`, then the test passes. Otherwise, the test fails."
   ]
  },
  {
   "cell_type": "code",
   "execution_count": 14,
   "metadata": {
    "collapsed": true
   },
   "outputs": [],
   "source": [
    "import unittest\n",
    "\n",
    "# Define a class in which the tests will run\n",
    "class UnitTests(unittest.TestCase):\n",
    "\n",
    "    # Each method in the class to execute a test\n",
    "    def test_upper(self):\n",
    "        self.assertEqual(1, 1)\n",
    "\n",
    "    def test_isupper(self):\n",
    "        self.assertEqual(1, 2)\n"
   ]
  },
  {
   "cell_type": "code",
   "execution_count": 10,
   "metadata": {},
   "outputs": [],
   "source": [
    "# Running unittests inside Jupyter requires some special code.\n",
    "# This code is encapsulated inthe function below. When you create\n",
    "# files containing unittests, it will look simpler.\n",
    "def test(test_class=UnitTests):\n",
    "    # Convenience function to run tests.\n",
    "    # test_class is the class containing the tests.\n",
    "    suite = unittest.TestLoader().loadTestsFromModule(test_class())\n",
    "    unittest.TextTestRunner().run(suite)"
   ]
  },
  {
   "cell_type": "code",
   "execution_count": 15,
   "metadata": {},
   "outputs": [
    {
     "name": "stderr",
     "output_type": "stream",
     "text": [
      ".F\n",
      "======================================================================\n",
      "FAIL: test_upper (__main__.UnitTests)\n",
      "----------------------------------------------------------------------\n",
      "Traceback (most recent call last):\n",
      "  File \"<ipython-input-8-e37d7d47f3cc>\", line 9, in test_upper\n",
      "    self.assertEqual(1, 2)\n",
      "AssertionError: 1 != 2\n",
      "\n",
      "----------------------------------------------------------------------\n",
      "Ran 2 tests in 0.006s\n",
      "\n",
      "FAILED (failures=1)\n"
     ]
    }
   ],
   "source": [
    "# The function test runs the class UnitTests.\n",
    "test()"
   ]
  },
  {
   "cell_type": "markdown",
   "metadata": {},
   "source": [
    "As expected, the first test passes, but the second test fails.\n",
    "\n",
    "Below, we test the `entropy` function using the unittest infrastructure."
   ]
  },
  {
   "cell_type": "code",
   "execution_count": 33,
   "metadata": {},
   "outputs": [
    {
     "name": "stderr",
     "output_type": "stream",
     "text": [
      ".\n",
      "----------------------------------------------------------------------\n",
      "Ran 1 test in 0.002s\n",
      "\n",
      "OK\n"
     ]
    }
   ],
   "source": [
    "import unittest\n",
    "\n",
    "# Define a class in which the tests will run\n",
    "class EntropyTest(unittest.TestCase):\n",
    "\n",
    "    def testSimple(self):\n",
    "        self.assertEqual(entropy(1.0), 0.0)\n",
    "        \n",
    "test(test_class=EntropyTest)\n"
   ]
  },
  {
   "cell_type": "markdown",
   "metadata": {},
   "source": [
    "Although there's some setup, the tests are much easier than what we did before\n",
    "```\n",
    "ps = 1.0  # Should have an entropy of 0\n",
    "if entropy(ps) != 0:\n",
    "    print (\"Got a bad result.\")\n",
    "```\n",
    "\n",
    "Now we can add LOTS of tests."
   ]
  },
  {
   "cell_type": "code",
   "execution_count": 34,
   "metadata": {},
   "outputs": [
    {
     "name": "stderr",
     "output_type": "stream",
     "text": [
      "F.\n",
      "======================================================================\n",
      "FAIL: testEqualProbability (__main__.EntropyTest)\n",
      "----------------------------------------------------------------------\n",
      "Traceback (most recent call last):\n",
      "  File \"<ipython-input-34-9fca0ad64d47>\", line 17, in testEqualProbability\n",
      "    self._testEqualProbability(200)\n",
      "  File \"<ipython-input-34-9fca0ad64d47>\", line 12, in _testEqualProbability\n",
      "    self.assertEqual(entropy(ps), -np.log(prob))\n",
      "AssertionError: 5.2983173665480372 != 5.2983173665480363\n",
      "\n",
      "----------------------------------------------------------------------\n",
      "Ran 2 tests in 0.011s\n",
      "\n",
      "FAILED (failures=1)\n"
     ]
    }
   ],
   "source": [
    "import unittest\n",
    "\n",
    "# Define a class in which the tests will run\n",
    "class EntropyTest(unittest.TestCase):\n",
    "\n",
    "    def testSimple(self):\n",
    "        self.assertEqual(entropy(1.0), 0.0)\n",
    "        \n",
    "    def _testEqualProbability(self, size):\n",
    "        prob = 1.0/size\n",
    "        ps = np.repeat(prob , size)\n",
    "        self.assertEqual(entropy(ps), -np.log(prob))\n",
    "        \n",
    "    def testEqualProbability(self):\n",
    "        self._testEqualProbability(2)\n",
    "        self._testEqualProbability(20)\n",
    "        self._testEqualProbability(200)\n",
    "        \n",
    "test(test_class=EntropyTest)\n"
   ]
  },
  {
   "cell_type": "markdown",
   "metadata": {},
   "source": [
    "Why did this test fail? How do we deal with this?"
   ]
  },
  {
   "cell_type": "code",
   "execution_count": 36,
   "metadata": {},
   "outputs": [
    {
     "name": "stderr",
     "output_type": "stream",
     "text": [
      "..\n",
      "----------------------------------------------------------------------\n",
      "Ran 2 tests in 0.009s\n",
      "\n",
      "OK\n"
     ]
    }
   ],
   "source": [
    "import unittest\n",
    "\n",
    "# Define a class in which the tests will run\n",
    "class EntropyTest(unittest.TestCase):\n",
    "\n",
    "    def testSimple(self):\n",
    "        self.assertEqual(entropy(1.0), 0.0)\n",
    "        \n",
    "    def _testEqualProbability(self, size):\n",
    "        prob = 1.0/size\n",
    "        ps = np.repeat(prob , size)\n",
    "        self.assertTrue(np.isclose(entropy(ps), -np.log(prob)))\n",
    "        \n",
    "    def testEqualProbability(self):\n",
    "        self._testEqualProbability(2)\n",
    "        self._testEqualProbability(20)\n",
    "        self._testEqualProbability(200)\n",
    "        \n",
    "test(test_class=EntropyTest)"
   ]
  },
  {
   "cell_type": "markdown",
   "metadata": {},
   "source": [
    "## Testing Exceptions"
   ]
  },
  {
   "cell_type": "markdown",
   "metadata": {},
   "source": [
    "## Test Files\n",
    "- Show code by creating test_prime.py\n",
    "- Using nose vs. python to run tests"
   ]
  },
  {
   "cell_type": "markdown",
   "metadata": {},
   "source": [
    "## Exercise\n",
    "- Debug prime.py\n",
    "- Create a test file test_prime.py that contains unit tests"
   ]
  },
  {
   "cell_type": "markdown",
   "metadata": {},
   "source": [
    "## SAVE"
   ]
  },
  {
   "cell_type": "code",
   "execution_count": null,
   "metadata": {},
   "outputs": [],
   "source": [
    "ps = \"0.1, 0.9\"\n",
    "entropy(ps)"
   ]
  },
  {
   "cell_type": "code",
   "execution_count": null,
   "metadata": {
    "collapsed": true
   },
   "outputs": [],
   "source": [
    "# Code for computing Entropy\n",
    "def entropy(ps):\n",
    "    try:\n",
    "        items = ps * np.log(ps)\n",
    "    except TypeError:\n",
    "        raise TypeError(\"Argument must be an array or list of numbers.\")\n",
    "        return np.nan\n",
    "    return -np.sum(items)"
   ]
  }
 ],
 "metadata": {
  "kernelspec": {
   "display_name": "Python 3",
   "language": "python",
   "name": "python3"
  },
  "language_info": {
   "codemirror_mode": {
    "name": "ipython",
    "version": 3
   },
   "file_extension": ".py",
   "mimetype": "text/x-python",
   "name": "python",
   "nbconvert_exporter": "python",
   "pygments_lexer": "ipython3",
   "version": "3.6.0"
  }
 },
 "nbformat": 4,
 "nbformat_minor": 2
}
